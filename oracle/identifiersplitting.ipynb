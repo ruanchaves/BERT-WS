{
 "cells": [
  {
   "cell_type": "code",
   "execution_count": 13,
   "metadata": {},
   "outputs": [],
   "source": [
    "import pandas as pd"
   ]
  },
  {
   "cell_type": "code",
   "execution_count": 16,
   "metadata": {},
   "outputs": [],
   "source": [
    "files = {\n",
    "    'train': 'loyola_train.txt',\n",
    "    'test': 'loyola_test.txt',\n",
    "    'dev': 'loyola_dev.txt'\n",
    "}\n",
    "\n",
    "targets = {\n",
    "    'train': 'loyola_train.csv',\n",
    "    'test': 'loyola_test.csv',\n",
    "    'dev': 'loyola_dev.csv'\n",
    "}"
   ]
  },
  {
   "cell_type": "code",
   "execution_count": 17,
   "metadata": {},
   "outputs": [],
   "source": [
    "def read_data(filename):\n",
    "    data = []\n",
    "    with open(filename,'r') as f:\n",
    "        for line in f:\n",
    "            data.append(line)\n",
    "    df = []\n",
    "    for item in data:\n",
    "        tokens = item.rstrip().split(' ')[0:-1]\n",
    "        n_gram_size = int(tokens.pop(0))\n",
    "        joined_n_gram = tokens.pop(0)\n",
    "        original_n_gram = ' '.join(tokens)\n",
    "        fields = {\n",
    "            \"n_gram_size\": n_gram_size,\n",
    "            \"assembled_sentence\": joined_n_gram,\n",
    "            \"sentence\": original_n_gram\n",
    "        }\n",
    "        df.append(fields)\n",
    "    return df\n",
    "    \n",
    "for key in files.keys():\n",
    "    pd.DataFrame(read_data(files[key])).to_csv(targets[key])"
   ]
  },
  {
   "cell_type": "code",
   "execution_count": null,
   "metadata": {},
   "outputs": [],
   "source": []
  }
 ],
 "metadata": {
  "kernelspec": {
   "display_name": "Python 3",
   "language": "python",
   "name": "python3"
  },
  "language_info": {
   "codemirror_mode": {
    "name": "ipython",
    "version": 3
   },
   "file_extension": ".py",
   "mimetype": "text/x-python",
   "name": "python",
   "nbconvert_exporter": "python",
   "pygments_lexer": "ipython3",
   "version": "3.6.9"
  }
 },
 "nbformat": 4,
 "nbformat_minor": 4
}
